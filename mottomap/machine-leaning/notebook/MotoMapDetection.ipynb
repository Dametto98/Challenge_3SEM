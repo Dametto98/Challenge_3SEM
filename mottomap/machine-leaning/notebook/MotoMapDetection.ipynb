{
  "nbformat": 4,
  "nbformat_minor": 0,
  "metadata": {
    "colab": {
      "provenance": []
    },
    "kernelspec": {
      "name": "python3",
      "display_name": "Python 3"
    },
    "language_info": {
      "name": "python"
    }
  },
  "cells": [
    {
      "cell_type": "markdown",
      "source": [
        "# MotoMap: Detecção Inteligente de Vagas em Pátios com Visão Computacional\n",
        "\n",
        "**Projeto:** Componente de Visão Computacional para o Sistema MotoMap (Challenge FIAP 2025 - Mottu)\n",
        "**Foco Atual:** Análise e Desenvolvimento de Sistema de Detecção de Ocupação de Vagas\n",
        "**Autores:** Caike Dametto e Guilherme Janunzzi\n",
        "**Dataset Utilizado:** \"CNRPark-EXT Dataset\" (`CNRPark+EXT.csv`) e imagens associadas **link**:http://cnrpark.it/.\n",
        "\n",
        "## 1. Visão Geral e Justificativa\n",
        "\n",
        "Este notebook representa uma etapa fundamental no desenvolvimento do sistema **MotoMap**, focado na otimização da gestão de pátios de motocicletas da Mottu. A dor central abordada é a dificuldade no controle físico e visual eficiente das vagas de estacionamento, levando a possíveis ineficiências na alocação de veículos e na utilização do espaço do pátio.\n",
        "\n",
        "Com a crescente necessidade de agilidade e precisão, a aplicação de técnicas de visão computacional para a detecção automática de vagas livres e ocupadas surge como uma solução promissora.\n",
        "\n",
        "## 2. Objetivo deste Notebook\n",
        "\n",
        "O objetivo principal desta análise é explorar o dataset `CNRPark-EXT` para entender seus dados e preparar o terreno para o desenvolvimento de um modelo de visão computacional capaz de:\n",
        "\n",
        "* Identificar e classificar o status de ocupação de vagas de estacionamento (livre/ocupada) a partir de imagens.\n",
        "* Fornecer insights sobre os padrões de ocupação que podem ser utilizados pelo sistema MotoMap.\n",
        "\n",
        "As etapas cobertas incluem:\n",
        "\n",
        "* Carregamento e inspeção inicial do dataset de metadados (`CNRPark+EXT.csv`).\n",
        "* Limpeza e pré-processamento dos dados (tratamento de valores ausentes, conversão de tipos, etc.).\n",
        "* Análise exploratória dos dados (EDA) para identificar distribuições, relações entre variáveis e características relevantes.\n",
        "* Preparação para a vinculação dos metadados com as imagens correspondentes (a serem exploradas em etapas futuras de modelagem).\n",
        "\n",
        "## 3. Metodologia Proposta\n",
        "\n",
        "A abordagem envolverá:\n",
        "\n",
        "1.  **Análise de Dados Tabulares:** Utilização da biblioteca Pandas para manipulação e análise do arquivo CSV contendo informações sobre cada imagem, vaga, e seu status.\n",
        "2.  **Visualização de Dados:** Uso de bibliotecas como Matplotlib e Seaborn para criar gráficos que ajudem a compreender os dados.\n",
        "3.  **Engenharia de Features (se necessário):** Criação de novas colunas ou transformação das existentes para melhor representar a informação.\n",
        "4.  **Preparação para Modelagem de Visão Computacional (futuro):** Embora este notebook se concentre na EDA dos metadados, ele estabelece a base para a posterior utilização das colunas `image_url` e `occupancy` no treinamento de um modelo de classificação de imagens (e.g., CNN).\n",
        "\n",
        "## 4. Resultados Esperados e Impacto no MotoMap\n",
        "\n",
        "Espera-se que esta análise forneça uma compreensão clara do dataset e prepare os dados de forma eficaz. A capacidade de detectar vagas automaticamente terá um impacto direto no MotoMap ao:\n",
        "\n",
        "* Permitir a alocação rápida e precisa de motocicletas às vagas disponíveis.\n",
        "* Otimizar o uso do espaço físico do pátio.\n",
        "* Fornecer uma base para a visualização em tempo real do status do pátio na aplicação mobile do MotoMap.\n",
        "* Reduzir o tempo gasto por colaboradores na busca manual por vagas.\n",
        "\n",
        "Este componente é crucial para transformar o MotoMap em um verdadeiro sistema inteligente de gestão de pátios.\n",
        "\n",
        "## 5. Link do Pitch gravado sobre a nossa proposta\n",
        "https://youtu.be/VtdsDGwazFI?si=RaK5dR4x30QLxcNL\n"
      ],
      "metadata": {
        "id": "6q-iddkAVjaa"
      }
    },
    {
      "cell_type": "code",
      "execution_count": null,
      "metadata": {
        "id": "avFnpELA10tG"
      },
      "outputs": [],
      "source": [
        "# Import de pandas e numpy\n",
        "import pandas as pd\n",
        "import numpy as np"
      ]
    },
    {
      "cell_type": "code",
      "source": [
        "# Após o Upload do Dataframe para o ambiente podemos reconhecer o DF\n",
        "file_path = 'CNRPark+EXT.csv'\n",
        "\n",
        "df = pd.DataFrame()\n",
        "dataset_loaded_successfully = False"
      ],
      "metadata": {
        "id": "JcVCmY2WWY18"
      },
      "execution_count": null,
      "outputs": []
    },
    {
      "cell_type": "code",
      "source": [
        "# Utilização do Try para leitura de forma otimizada do .CSV\n",
        "try:\n",
        "    df_temp = pd.read_csv(file_path)\n",
        "    if not df_temp.empty:\n",
        "        df = df_temp\n",
        "        dataset_loaded_successfully = True\n",
        "        print(\"o Dataset 'CNRPark+EXT.csv' subiu com sucesso.\")\n",
        "    else:\n",
        "        print(\"Aviso: O Dataset 'CNRPark+EXT.csv' está vazio.\")\n",
        "except FileNotFoundError:\n",
        "    print(f\"Erro: Arquivo '{file_path}' não encontrado.\")\n",
        "except pd.errors.EmptyDataError:\n",
        "    print(f\"Erro: Arquivo '{file_path}' Não contem Informações ou não pe valido.\")\n",
        "except Exception as e:\n",
        "    print(f\"Erro: inexperado durante a leitura do arquivo '{file_path}': {e}\")"
      ],
      "metadata": {
        "colab": {
          "base_uri": "https://localhost:8080/"
        },
        "id": "TRARoTTTWY37",
        "outputId": "a4e3b27f-ff65-4497-c857-a601a65422a0"
      },
      "execution_count": null,
      "outputs": [
        {
          "output_type": "stream",
          "name": "stdout",
          "text": [
            "o Dataset 'CNRPark+EXT.csv' subiu com sucesso.\n"
          ]
        },
        {
          "output_type": "stream",
          "name": "stderr",
          "text": [
            "<ipython-input-9-db7237563dfa>:3: DtypeWarning: Columns (0) have mixed types. Specify dtype option on import or set low_memory=False.\n",
            "  df_temp = pd.read_csv(file_path)\n"
          ]
        }
      ]
    },
    {
      "cell_type": "code",
      "source": [
        "# Inspeção basica do Dataset após o Upload\n",
        "if dataset_loaded_successfully:\n",
        "    print(\"\\nPrimeiras 5 linhhas do .CSV:\")\n",
        "    print(df.head())\n",
        "\n",
        "    print(\"\\nInformações do DataFrame: \")\n",
        "    df.info()\n",
        "\n",
        "    print(\"\\nIdentificando valores nulos: \")\n",
        "    print(df.isnull().sum())\n",
        "\n",
        "    print(\"\\nVisualização do shape doDataFrame: \")\n",
        "    print(df.shape)\n",
        "else:\n",
        "    print(\"\\nDataFrame não foi lido com sucesso.\")"
      ],
      "metadata": {
        "colab": {
          "base_uri": "https://localhost:8080/"
        },
        "id": "R_EJzoT0boBw",
        "outputId": "ef5cdac4-8292-44cf-c5b5-9655aebba63a"
      },
      "execution_count": null,
      "outputs": [
        {
          "output_type": "stream",
          "name": "stdout",
          "text": [
            "\n",
            "Primeiras 5 linhhas do .CSV:\n",
            "  camera       datetime  day  hour                           image_url  \\\n",
            "0      A  20150703_0805    3     8  CNRPark/A/free/20150703_0805_1.jpg   \n",
            "1      A  20150703_0810    3     8  CNRPark/A/free/20150703_0810_1.jpg   \n",
            "2      A  20150703_0815    3     8  CNRPark/A/busy/20150703_0815_1.jpg   \n",
            "3      A  20150703_0820    3     8  CNRPark/A/busy/20150703_0820_1.jpg   \n",
            "4      A  20150703_0825    3     8  CNRPark/A/busy/20150703_0825_1.jpg   \n",
            "\n",
            "   minute  month  occupancy  slot_id weather  year  occupant_changed  \n",
            "0       5      7          0        1       S  2015               NaN  \n",
            "1      10      7          0        1       S  2015               NaN  \n",
            "2      15      7          1        1       S  2015               0.0  \n",
            "3      20      7          1        1       S  2015               0.0  \n",
            "4      25      7          1        1       S  2015               0.0  \n",
            "\n",
            "Informações do DataFrame: \n",
            "<class 'pandas.core.frame.DataFrame'>\n",
            "RangeIndex: 157549 entries, 0 to 157548\n",
            "Data columns (total 12 columns):\n",
            " #   Column            Non-Null Count   Dtype  \n",
            "---  ------            --------------   -----  \n",
            " 0   camera            157549 non-null  object \n",
            " 1   datetime          157549 non-null  object \n",
            " 2   day               157549 non-null  int64  \n",
            " 3   hour              157549 non-null  int64  \n",
            " 4   image_url         157549 non-null  object \n",
            " 5   minute            157549 non-null  int64  \n",
            " 6   month             157549 non-null  int64  \n",
            " 7   occupancy         157549 non-null  int64  \n",
            " 8   slot_id           157549 non-null  int64  \n",
            " 9   weather           157549 non-null  object \n",
            " 10  year              157549 non-null  int64  \n",
            " 11  occupant_changed  87618 non-null   float64\n",
            "dtypes: float64(1), int64(7), object(4)\n",
            "memory usage: 14.4+ MB\n",
            "\n",
            "Identificando valores nulos: \n",
            "camera                  0\n",
            "datetime                0\n",
            "day                     0\n",
            "hour                    0\n",
            "image_url               0\n",
            "minute                  0\n",
            "month                   0\n",
            "occupancy               0\n",
            "slot_id                 0\n",
            "weather                 0\n",
            "year                    0\n",
            "occupant_changed    69931\n",
            "dtype: int64\n",
            "\n",
            "Visualização do shape doDataFrame: \n",
            "(157549, 12)\n"
          ]
        }
      ]
    },
    {
      "cell_type": "code",
      "source": [
        "print(\"Iniciando a Limpeza e Pré-processamento dos Dados\\n\")\n",
        "\n",
        "  # Inspecionando seus valores únicos.\n",
        "print(\"Valores únicos na coluna 'camera' + value_counts:\")\n",
        "print(df['camera'].value_counts(dropna=False))"
      ],
      "metadata": {
        "colab": {
          "base_uri": "https://localhost:8080/"
        },
        "id": "OFuW1cTyVCoE",
        "outputId": "ee2b18fc-116f-452a-8673-b7067b334fab"
      },
      "execution_count": null,
      "outputs": [
        {
          "output_type": "stream",
          "name": "stdout",
          "text": [
            "Iniciando a Limpeza e Pré-processamento dos Dados\n",
            "\n",
            "Valores únicos na coluna 'camera' + value_counts:\n",
            "camera\n",
            "8     15412\n",
            "7     13496\n",
            "5     13401\n",
            "6     12909\n",
            "4     10447\n",
            "1      9748\n",
            "08     8672\n",
            "9      8152\n",
            "07     7618\n",
            "05     7437\n",
            "06     7199\n",
            "B      6413\n",
            "A      6171\n",
            "04     6129\n",
            "01     5967\n",
            "3      5913\n",
            "09     4812\n",
            "03     3558\n",
            "2      2535\n",
            "02     1560\n",
            "Name: count, dtype: int64\n"
          ]
        }
      ]
    },
    {
      "cell_type": "code",
      "source": [
        "# Convertendo para tipo string para garantir uniformidade.\n",
        "df['camera'] = df['camera'].astype(str)\n",
        "print(\"\\nTipo da coluna 'camera' convertido para string.\")"
      ],
      "metadata": {
        "colab": {
          "base_uri": "https://localhost:8080/"
        },
        "id": "1XNnLNWcbvgf",
        "outputId": "14723a21-1263-400d-ffc9-2a18d9ac8892"
      },
      "execution_count": null,
      "outputs": [
        {
          "output_type": "stream",
          "name": "stdout",
          "text": [
            "\n",
            "Tipo da coluna 'camera' convertido para string.\n"
          ]
        }
      ]
    },
    {
      "cell_type": "code",
      "source": [
        "  # Tratando valores ausentes em 'occupant_changed'\n",
        "df['occupant_changed'].fillna(0, inplace=True)\n",
        "  # Convertendo para inteiro, já que é indicador.\n",
        "df['occupant_changed'] = df['occupant_changed'].astype(int)\n",
        "print(\"\\nValores ausentes em 'occupant_changed' preenchidos com 0 e tipo convertido para inteiro.\")\n",
        "print(\"Contagem de valores para 'occupant_changed' após preenchimento dos NaNs:\")\n",
        "print(df['occupant_changed'].value_counts(dropna=False))"
      ],
      "metadata": {
        "colab": {
          "base_uri": "https://localhost:8080/"
        },
        "id": "sXOelI2lZ-mu",
        "outputId": "df1ce6d7-5809-4816-fa4e-1c20ffb10ff7"
      },
      "execution_count": null,
      "outputs": [
        {
          "output_type": "stream",
          "name": "stderr",
          "text": [
            "<ipython-input-13-f619775819c6>:2: FutureWarning: A value is trying to be set on a copy of a DataFrame or Series through chained assignment using an inplace method.\n",
            "The behavior will change in pandas 3.0. This inplace method will never work because the intermediate object on which we are setting values always behaves as a copy.\n",
            "\n",
            "For example, when doing 'df[col].method(value, inplace=True)', try using 'df.method({col: value}, inplace=True)' or df[col] = df[col].method(value) instead, to perform the operation inplace on the original object.\n",
            "\n",
            "\n",
            "  df['occupant_changed'].fillna(0, inplace=True)\n"
          ]
        },
        {
          "output_type": "stream",
          "name": "stdout",
          "text": [
            "\n",
            "Valores ausentes em 'occupant_changed' preenchidos com 0 e tipo convertido para inteiro.\n",
            "Contagem de valores para 'occupant_changed' após preenchimento dos NaNs:\n",
            "occupant_changed\n",
            "0    157014\n",
            "1       535\n",
            "Name: count, dtype: int64\n"
          ]
        }
      ]
    },
    {
      "cell_type": "code",
      "source": [
        "  # Transformando em um formato datetime adequado\n",
        "try:\n",
        "    df['timestamp'] = pd.to_datetime(df['datetime'], format='%Y%m%d_%H%M')\n",
        "    print(\"\\nColuna 'datetime' convertida com sucesso para 'timestamp' (objeto datetime).\")\n",
        "except ValueError as e:\n",
        "    print(f\"\\nErro ao converter a coluna 'datetime': {e}\")\n",
        "    print(\"Por favor, verifique a string de formatação ou irregularidades nos dados.\")\n"
      ],
      "metadata": {
        "colab": {
          "base_uri": "https://localhost:8080/"
        },
        "id": "rtdzcMtlWY6b",
        "outputId": "ef49c831-c51a-4cdc-d51e-884466c953ed"
      },
      "execution_count": null,
      "outputs": [
        {
          "output_type": "stream",
          "name": "stdout",
          "text": [
            "\n",
            "Erro ao converter a coluna 'datetime': time data \"2015-11-12_07.09\" doesn't match format \"%Y%m%d_%H%M\", at position 242. You might want to try:\n",
            "    - passing `format` if your strings have a consistent format;\n",
            "    - passing `format='ISO8601'` if your strings are all ISO8601 but not necessarily in exactly the same format;\n",
            "    - passing `format='mixed'`, and the format will be inferred for each element individually. You might want to use `dayfirst` alongside this.\n",
            "Por favor, verifique a string de formatação ou irregularidades nos dados.\n"
          ]
        }
      ]
    },
    {
      "cell_type": "code",
      "source": [
        "\n",
        "  # 1.4 Convertendo outras colunas relevantes para o tipo 'category' para melhorar o desempenho\n",
        "print(\"\\nValores únicos na coluna 'weather':\")\n",
        "print(df['weather'].value_counts(dropna=False))\n",
        "df['weather'] = df['weather'].astype('category')\n",
        "print(\"Tipo da coluna 'weather' convertido para categoria.\")\n",
        "\n",
        "# Se 'camera' tiver poucos valores únicos de string, também pode ser 'category'.\n",
        "if df['camera'].nunique() < 100:\n",
        "    df['camera'] = df['camera'].astype('category')\n",
        "    print(\"Tipo da coluna 'camera' convertido para categoria.\")"
      ],
      "metadata": {
        "colab": {
          "base_uri": "https://localhost:8080/"
        },
        "id": "ALbc-RSSWY-r",
        "outputId": "e7522a8a-ac98-4f27-ed3c-bc7ffaadfe8e"
      },
      "execution_count": null,
      "outputs": [
        {
          "output_type": "stream",
          "name": "stdout",
          "text": [
            "\n",
            "Valores únicos na coluna 'weather':\n",
            "weather\n",
            "S    75762\n",
            "O    44243\n",
            "R    37544\n",
            "Name: count, dtype: int64\n",
            "Tipo da coluna 'weather' convertido para categoria.\n",
            "Tipo da coluna 'camera' convertido para categoria.\n"
          ]
        }
      ]
    },
    {
      "cell_type": "code",
      "source": [
        "# Buscando por linhas duplicadas\n",
        "num_duplicates_before = df.duplicated().sum()\n",
        "if num_duplicates_before > 0:\n",
        "    print(f\"\\nForam encontradas {num_duplicates_before} linhas duplicadas. Removendo-as.\")\n",
        "    df.drop_duplicates(inplace=True)\n",
        "    print(f\"Formato do DataFrame após remoção de duplicatas: {df.shape}\")\n",
        "else:\n",
        "    print(\"\\nNenhuma linha duplicada completa foi encontrada.\")\n",
        "\n",
        "# Exibindo informações após a limpeza\n",
        "print(\"\\n### Informações do DataFrame após a limpeza e pré-processamento inicial:\")\n",
        "df.info()\n",
        "print(\"\\n### Resumo de valores ausentes após a limpeza:\")\n",
        "print(df.isnull().sum())\n",
        "print(\"\\n### Primeiras 5 linhas após a limpeza:\")\n",
        "print(df.head())\n",
        "\n",
        "print(\"\\nLimpeza e Pré-processamento dos Dados finalizados.\")"
      ],
      "metadata": {
        "colab": {
          "base_uri": "https://localhost:8080/"
        },
        "id": "6pAPun6pWZBD",
        "outputId": "a201345c-d0c0-44b2-db66-30c847c9734c"
      },
      "execution_count": null,
      "outputs": [
        {
          "output_type": "stream",
          "name": "stdout",
          "text": [
            "\n",
            "Nenhuma linha duplicada completa foi encontrada.\n",
            "\n",
            "### Informações do DataFrame após a limpeza e pré-processamento inicial:\n",
            "<class 'pandas.core.frame.DataFrame'>\n",
            "RangeIndex: 157549 entries, 0 to 157548\n",
            "Data columns (total 12 columns):\n",
            " #   Column            Non-Null Count   Dtype   \n",
            "---  ------            --------------   -----   \n",
            " 0   camera            157549 non-null  category\n",
            " 1   datetime          157549 non-null  object  \n",
            " 2   day               157549 non-null  int64   \n",
            " 3   hour              157549 non-null  int64   \n",
            " 4   image_url         157549 non-null  object  \n",
            " 5   minute            157549 non-null  int64   \n",
            " 6   month             157549 non-null  int64   \n",
            " 7   occupancy         157549 non-null  int64   \n",
            " 8   slot_id           157549 non-null  int64   \n",
            " 9   weather           157549 non-null  category\n",
            " 10  year              157549 non-null  int64   \n",
            " 11  occupant_changed  157549 non-null  int64   \n",
            "dtypes: category(2), int64(8), object(2)\n",
            "memory usage: 12.3+ MB\n",
            "\n",
            "### Resumo de valores ausentes após a limpeza:\n",
            "camera              0\n",
            "datetime            0\n",
            "day                 0\n",
            "hour                0\n",
            "image_url           0\n",
            "minute              0\n",
            "month               0\n",
            "occupancy           0\n",
            "slot_id             0\n",
            "weather             0\n",
            "year                0\n",
            "occupant_changed    0\n",
            "dtype: int64\n",
            "\n",
            "### Primeiras 5 linhas após a limpeza:\n",
            "  camera       datetime  day  hour                           image_url  \\\n",
            "0      A  20150703_0805    3     8  CNRPark/A/free/20150703_0805_1.jpg   \n",
            "1      A  20150703_0810    3     8  CNRPark/A/free/20150703_0810_1.jpg   \n",
            "2      A  20150703_0815    3     8  CNRPark/A/busy/20150703_0815_1.jpg   \n",
            "3      A  20150703_0820    3     8  CNRPark/A/busy/20150703_0820_1.jpg   \n",
            "4      A  20150703_0825    3     8  CNRPark/A/busy/20150703_0825_1.jpg   \n",
            "\n",
            "   minute  month  occupancy  slot_id weather  year  occupant_changed  \n",
            "0       5      7          0        1       S  2015                 0  \n",
            "1      10      7          0        1       S  2015                 0  \n",
            "2      15      7          1        1       S  2015                 0  \n",
            "3      20      7          1        1       S  2015                 0  \n",
            "4      25      7          1        1       S  2015                 0  \n",
            "\n",
            "Limpeza e Pré-processamento dos Dados finalizados.\n"
          ]
        }
      ]
    },
    {
      "cell_type": "code",
      "source": [
        "# Importando bibliotecas de visualização\n",
        "import matplotlib.pyplot as plt\n",
        "import seaborn as sns"
      ],
      "metadata": {
        "id": "1zPy-rwMWZDS"
      },
      "execution_count": null,
      "outputs": []
    },
    {
      "cell_type": "code",
      "source": [
        "if 'df' not in locals() or df.empty or 'occupancy' not in df.columns:\n",
        "    print(\"DataFrame 'df' não encontrado, está vazio ou a coluna 'occupancy' está ausente. Por favor, execute os passos anteriores.\")\n",
        "else:\n",
        "    print(\"\\nIniciando a Análise Exploratória da Variável Alvo ('occupancy')\\n\")"
      ],
      "metadata": {
        "colab": {
          "base_uri": "https://localhost:8080/"
        },
        "id": "BKVXh_5TWZFj",
        "outputId": "19280fa3-9cec-49a7-b6b6-c9317112f463"
      },
      "execution_count": null,
      "outputs": [
        {
          "output_type": "stream",
          "name": "stdout",
          "text": [
            "\n",
            "Iniciando a Análise Exploratória da Variável Alvo ('occupancy')\n",
            "\n"
          ]
        }
      ]
    },
    {
      "cell_type": "code",
      "source": [
        "  # Analisando 'occupancy'\n",
        "print(\"Contagem de valores para 'occupancy':\")\n",
        "occupancy_counts = df['occupancy'].value_counts(normalize=True)  # Proporções\n",
        "print(occupancy_counts * 100)  # Mostrar em porcentagem"
      ],
      "metadata": {
        "colab": {
          "base_uri": "https://localhost:8080/"
        },
        "id": "aBeNWN0gWZIK",
        "outputId": "bb69ee8f-8eed-4d9c-f2ee-b62529053242"
      },
      "execution_count": null,
      "outputs": [
        {
          "output_type": "stream",
          "name": "stdout",
          "text": [
            "Contagem de valores para 'occupancy':\n",
            "occupancy\n",
            "1    55.654431\n",
            "0    44.345569\n",
            "Name: proportion, dtype: float64\n"
          ]
        }
      ]
    },
    {
      "cell_type": "code",
      "source": [
        "  # Visualizando 'occupancy'\n",
        "plt.figure(figsize=(6, 4))\n",
        "sns.countplot(x='occupancy', data=df)\n",
        "plt.title('Distribuição da Ocupação das Vagas de Estacionamento')\n",
        "plt.xlabel('Ocupação (0 = Livre, 1 = Ocupada)')\n",
        "plt.ylabel('Número de Observações')\n",
        "plt.xticks([0, 1], ['Livre (0)', 'Ocupada (1)'])\n",
        "plt.grid(axis='y', linestyle='--')\n",
        "plt.show()"
      ],
      "metadata": {
        "colab": {
          "base_uri": "https://localhost:8080/",
          "height": 410
        },
        "id": "Ik6-8c33WZKj",
        "outputId": "1e41634c-d918-480e-8c38-fa3d0285a836"
      },
      "execution_count": null,
      "outputs": [
        {
          "output_type": "display_data",
          "data": {
            "text/plain": [
              "<Figure size 600x400 with 1 Axes>"
            ],
            "image/png": "[encoded data removed]"
          },
          "metadata": {}
        }
      ]
    },
    {
      "cell_type": "code",
      "source": [
        "if occupancy_counts.min() < 0.1:  # Se alguma classe for menor que 10%\n",
        "    print(\"\\nAviso: O conjunto de dados parece estar desbalanceado para a variável 'occupancy'.\")\n",
        "else:\n",
        "    print(\"\\nA distribuição da variável 'occupancy' parece razoavelmente balanceada ou com amostras suficientes para ambas as classes.\")\n",
        "\n",
        "print(\"\\nAnálise Exploratória da Variável Alvo finalizada.\")"
      ],
      "metadata": {
        "colab": {
          "base_uri": "https://localhost:8080/"
        },
        "id": "-7N179T-WZM7",
        "outputId": "c411d91e-e605-450a-ad52-7b614cad9b23"
      },
      "execution_count": null,
      "outputs": [
        {
          "output_type": "stream",
          "name": "stdout",
          "text": [
            "\n",
            "A distribuição da variável 'occupancy' parece razoavelmente balanceada ou com amostras suficientes para ambas as classes.\n",
            "\n",
            "Análise Exploratória da Variável Alvo finalizada.\n"
          ]
        }
      ]
    },
    {
      "cell_type": "code",
      "source": [
        "  # Instalando restante das bibliotecas a serem utilizadas\n",
        "from sklearn.model_selection import train_test_split\n",
        "from sklearn.preprocessing import StandardScaler, OneHotEncoder\n",
        "from sklearn.compose import ColumnTransformer\n",
        "from sklearn.pipeline import Pipeline\n",
        "from sklearn.impute import SimpleImputer # Embora já tenhamos tratado NaNs, bom para pipeline"
      ],
      "metadata": {
        "id": "xVKkNS-0cvkb"
      },
      "execution_count": null,
      "outputs": []
    },
    {
      "cell_type": "code",
      "source": [
        "if 'df' not in locals() or df.empty or 'occupancy' not in df.columns:\n",
        "    print(\"DataFrame 'df' não encontrado, está vazio ou colunas chave estão faltando. Por favor, execute os passos anteriores.\")\n",
        "else:\n",
        "    print(\"\\nIniciando Preparação de Features para o Modelo de Baseline...\\n\")"
      ],
      "metadata": {
        "colab": {
          "base_uri": "https://localhost:8080/"
        },
        "id": "3uXzyRutc7b5",
        "outputId": "9dc52bc1-d6e8-4b27-98a8-2b1921916718"
      },
      "execution_count": null,
      "outputs": [
        {
          "output_type": "stream",
          "name": "stdout",
          "text": [
            "\n",
            "Iniciando Preparação de Features para o Modelo de Baseline...\n",
            "\n"
          ]
        }
      ]
    },
    {
      "cell_type": "code",
      "source": [
        "  # Definir Features (X) e Alvo (y)\n",
        "y = df['occupancy']\n",
        "\n",
        "  # Garantindo que 'day_of_week' seja criada se ainda não existir das etapas anteriores da EDA.\n",
        "if 'timestamp' in df.columns and pd.api.types.is_datetime64_any_dtype(df['timestamp']):\n",
        "    if 'day_of_week' not in df.columns:\n",
        "          df['day_of_week'] = df['timestamp'].dt.dayofweek # Segunda=0, Domingo=6\n",
        "    print(\"Feature 'day_of_week' disponível/criada.\")\n",
        "else:\n",
        "    # Fallback caso 'timestamp' não tenha sido convertido corretamente ou não exista\n",
        "    # Criar 'day_of_week' dummy se 'day' existir, caso contrário o modelo pode falhar\n",
        "    if 'day' in df.columns and 'day_of_week' not in df.columns:\n",
        "        print(\"Aviso: Coluna 'timestamp' não encontrada ou não é do tipo datetime. Usando 'day' módulo 7 para 'day_of_week' como uma aproximação.\")\n",
        "        df['day_of_week'] = df['day'] % 7 # Aproximação\n",
        "    elif 'day_of_week' not in df.columns:\n",
        "          print(\"Erro: Não foi possível criar 'day_of_week'. Colunas de data relevantes estão faltando ou não foram processadas.\")\n",
        "          # Interromper execução adicional para este bloco ou tratar o erro"
      ],
      "metadata": {
        "colab": {
          "base_uri": "https://localhost:8080/"
        },
        "id": "tlGGA9a1dHHp",
        "outputId": "cdc047ca-85d9-4af4-d853-08bcaa33e4e2"
      },
      "execution_count": null,
      "outputs": [
        {
          "output_type": "stream",
          "name": "stdout",
          "text": [
            "Aviso: Coluna 'timestamp' não encontrada ou não é do tipo datetime. Usando 'day' módulo 7 para 'day_of_week' como uma aproximação.\n"
          ]
        }
      ]
    },
    {
      "cell_type": "code",
      "source": [
        "  # Features numéricas\n",
        "numerical_features = ['hour', 'minute', 'day', 'month', 'year', 'slot_id', 'day_of_week']\n",
        "  # Features categóricas que precisam de codificação\n",
        "categorical_features = ['camera', 'weather'] # 'occupant_changed' já é int 0/1"
      ],
      "metadata": {
        "id": "oUS8UuBBeWBT"
      },
      "execution_count": null,
      "outputs": []
    },
    {
      "cell_type": "code",
      "source": [
        "  # Garantir que todas as colunas de feature selecionadas existam no DataFrame\n",
        "selected_features = numerical_features + categorical_features\n",
        "missing_cols = [col for col in selected_features if col not in df.columns]\n",
        "if missing_cols:\n",
        "    print(f\"Erro: As seguintes colunas de feature estão faltando no DataFrame: {missing_cols}\")\n",
        "    print(\"Por favor, garanta que as etapas anteriores de processamento de dados foram concluídas corretamente.\")\n",
        "    # Interromper execução adicional para este bloco\n",
        "    X = pd.DataFrame() # X vazio para prevenir erro\n",
        "else:\n",
        "    X = df[selected_features].copy() # Trabalhar em uma cópia\n",
        "    print(f\"Features selecionadas para X: {X.columns.tolist()}\")\n",
        "    print(f\"Alvo selecionado para y: 'occupancy'\")"
      ],
      "metadata": {
        "colab": {
          "base_uri": "https://localhost:8080/"
        },
        "id": "xTkwMcgvgy-z",
        "outputId": "4cb791e6-5e37-4629-8fcf-764fa4b6c6ea"
      },
      "execution_count": null,
      "outputs": [
        {
          "output_type": "stream",
          "name": "stdout",
          "text": [
            "Features selecionadas para X: ['hour', 'minute', 'day', 'month', 'year', 'slot_id', 'day_of_week', 'camera', 'weather']\n",
            "Alvo selecionado para y: 'occupancy'\n"
          ]
        }
      ]
    },
    {
      "cell_type": "code",
      "source": [
        "if not X.empty:\n",
        "    # Pipelines de Pré-processamento\n",
        "    numerical_pipeline = Pipeline([\n",
        "        ('imputer', SimpleImputer(strategy='median')), # Tratar quaisquer NaNs perdidos\n",
        "        ('scaler', StandardScaler())\n",
        "    ])\n",
        "\n",
        "    # Criando um pipeline para features categóricas (one-hot encoding)\n",
        "    categorical_pipeline = Pipeline([\n",
        "        ('onehot', OneHotEncoder(handle_unknown='ignore')) # Ignorar novas categorias nos dados de teste\n",
        "    ])\n",
        "\n",
        "    # Criando um transformador de colunas para aplicar diferentes transformações a diferentes colunas\n",
        "    preprocessor = ColumnTransformer([\n",
        "        ('num', numerical_pipeline, numerical_features),\n",
        "        ('cat', categorical_pipeline, categorical_features)\n",
        "    ], remainder='passthrough') # Manter outras colunas se houver (embora tenhamos selecionado todas)\n",
        "\n",
        "    # Dividir Dados em Conjuntos de Treino e Teste\n",
        "    X_train, X_test, y_train, y_test = train_test_split(\n",
        "        X, y, test_size=0.25, random_state=42, stratify=y\n",
        "    )\n",
        "\n",
        "    print(f\"\\nDados divididos em conjuntos de treino e teste:\")\n",
        "    print(f\"Shape de X_train: {X_train.shape}, shape de y_train: {y_train.shape}\")\n",
        "    print(f\"Shape de X_test: {X_test.shape}, shape de y_test: {y_test.shape}\")\n",
        "\n",
        "    # Aplicando Pré-processamento\n",
        "    X_train_processed = preprocessor.fit_transform(X_train)\n",
        "    X_test_processed = preprocessor.transform(X_test)\n",
        "\n",
        "    print(\"\\nPré-processamento de features (escalonamento e one-hot encoding) aplicado.\")\n",
        "    print(f\"Shape de X_train_processed: {X_train_processed.shape}\")\n",
        "\n",
        "    print(\"\\nPreparação de Features finalizada.\")\n",
        "else:\n",
        "    print(\"Preparação de features pulada devido a colunas faltantes ou X vazio.\")"
      ],
      "metadata": {
        "colab": {
          "base_uri": "https://localhost:8080/"
        },
        "id": "ZZodAfNFerUh",
        "outputId": "765e6ee4-923c-4e66-dd28-d28f8d69c6b2"
      },
      "execution_count": null,
      "outputs": [
        {
          "output_type": "stream",
          "name": "stdout",
          "text": [
            "\n",
            "Dados divididos em conjuntos de treino e teste:\n",
            "Shape de X_train: (118161, 9), shape de y_train: (118161,)\n",
            "Shape de X_test: (39388, 9), shape de y_test: (39388,)\n",
            "\n",
            "Pré-processamento de features (escalonamento e one-hot encoding) aplicado.\n",
            "Shape de X_train_processed: (118161, 30)\n",
            "\n",
            "Preparação de Features finalizada.\n"
          ]
        }
      ]
    },
    {
      "cell_type": "code",
      "source": [
        "  # Garantindo algumas bibliotecas para caso de uso independente do bloco\n",
        "from sklearn.metrics import accuracy_score, classification_report, confusion_matrix\n",
        "import seaborn as sns\n",
        "import matplotlib.pyplot as plt\n",
        "from sklearn.linear_model import LogisticRegression"
      ],
      "metadata": {
        "id": "G6vw47v9cxkx"
      },
      "execution_count": null,
      "outputs": []
    },
    {
      "cell_type": "code",
      "source": [
        "if 'X_train_processed' not in locals() or 'y_train' not in locals() or \\\n",
        "   'X_test_processed' not in locals() or 'y_test' not in locals():\n",
        "    print(\"Dados de treino/teste não encontrados. Por favor, execute o bloco de Preparação de Features primeiro.\")\n",
        "else:\n",
        "    print(\"\\nIniciando Treinamento do Modelo de Baseline e Verificação de Acurácia...\\n\")"
      ],
      "metadata": {
        "colab": {
          "base_uri": "https://localhost:8080/"
        },
        "id": "srLIYfQ1f1Ay",
        "outputId": "a65d4664-0ee1-4d88-fdba-85f81b4f9552"
      },
      "execution_count": null,
      "outputs": [
        {
          "output_type": "stream",
          "name": "stdout",
          "text": [
            "\n",
            "Iniciando Treinamento do Modelo de Baseline e Verificação de Acurácia...\n",
            "\n"
          ]
        }
      ]
    },
    {
      "cell_type": "code",
      "source": [
        "  # Inicializar e Treinar o Modelo\n",
        "model = LogisticRegression(solver='liblinear', random_state=42, max_iter=1000, class_weight='balanced')\n",
        "\n",
        "print(\"Treinando o modelo de Regressão Logística...\")\n",
        "model.fit(X_train_processed, y_train)\n",
        "print(\"Treinamento do modelo concluído.\")"
      ],
      "metadata": {
        "colab": {
          "base_uri": "https://localhost:8080/"
        },
        "id": "YjivOKXEf5LD",
        "outputId": "34e26f20-b681-4cf5-e77d-1320a029e035"
      },
      "execution_count": null,
      "outputs": [
        {
          "output_type": "stream",
          "name": "stdout",
          "text": [
            "Treinando o modelo de Regressão Logística...\n",
            "Treinamento do modelo concluído.\n"
          ]
        }
      ]
    },
    {
      "cell_type": "code",
      "source": [
        "  # Fazendo Previsões no Conjunto de Teste\n",
        "y_pred = model.predict(X_test_processed)\n",
        "print(\"\\nPrevisões feitas no conjunto de teste.\")"
      ],
      "metadata": {
        "colab": {
          "base_uri": "https://localhost:8080/"
        },
        "id": "106-BoDygBoL",
        "outputId": "0cd3e505-6d1e-4b1e-f9f9-356cf2a442fb"
      },
      "execution_count": null,
      "outputs": [
        {
          "output_type": "stream",
          "name": "stdout",
          "text": [
            "\n",
            "Previsões feitas no conjunto de teste.\n"
          ]
        }
      ]
    },
    {
      "cell_type": "code",
      "source": [
        "  # Avaliar o Modelo - Verificação de Acurácia\n",
        "accuracy = accuracy_score(y_test, y_pred)\n",
        "print(f\"\\nAcurácia do modelo de baseline: {accuracy:.4f} ({(accuracy*100):.2f}%)\")"
      ],
      "metadata": {
        "colab": {
          "base_uri": "https://localhost:8080/"
        },
        "id": "TPjGXhUvgRZa",
        "outputId": "a5ccf7a0-4ee2-4188-b3d7-33836b76f4a6"
      },
      "execution_count": null,
      "outputs": [
        {
          "output_type": "stream",
          "name": "stdout",
          "text": [
            "\n",
            "Acurácia do modelo de baseline: 0.6761 (67.61%)\n"
          ]
        }
      ]
    },
    {
      "cell_type": "code",
      "source": [
        "  # Relatório de Classificação Detalhado, Mostra precisão, recall, F1-score para cada classe.\n",
        "print(\"\\nRelatório de Classificação:\")\n",
        "print(classification_report(y_test, y_pred, target_names=['Livre (0)', 'Ocupado (1)']))"
      ],
      "metadata": {
        "colab": {
          "base_uri": "https://localhost:8080/"
        },
        "id": "haXHV4MegY4J",
        "outputId": "48d9ea45-54b7-45fe-8cb5-f8e9df544eb8"
      },
      "execution_count": null,
      "outputs": [
        {
          "output_type": "stream",
          "name": "stdout",
          "text": [
            "\n",
            "Relatório de Classificação:\n",
            "              precision    recall  f1-score   support\n",
            "\n",
            "   Livre (0)       0.63      0.67      0.65     17467\n",
            " Ocupado (1)       0.72      0.68      0.70     21921\n",
            "\n",
            "    accuracy                           0.68     39388\n",
            "   macro avg       0.67      0.68      0.67     39388\n",
            "weighted avg       0.68      0.68      0.68     39388\n",
            "\n"
          ]
        }
      ]
    },
    {
      "cell_type": "code",
      "source": [
        "#  Matriz de Confusão, ajuda a visualizar o desempenho, mostrando verdadeiros positivos, verdadeiros negativos\n",
        "cm = confusion_matrix(y_test, y_pred)\n",
        "print(\"\\nMatriz de Confusão:\")\n",
        "print(cm)\n",
        "\n",
        "plt.figure(figsize=(7, 5))\n",
        "sns.heatmap(cm, annot=True, fmt='d', cmap='Blues',\n",
        "            xticklabels=['Previsto Livre (0)', 'Previsto Ocupado (1)'],\n",
        "            yticklabels=['Real Livre (0)', 'Real Ocupado (1)'])\n",
        "plt.title('Matriz de Confusão para o Modelo de Baseline')\n",
        "plt.ylabel('Classe Real')\n",
        "plt.xlabel('Classe Prevista')\n",
        "plt.show()\n",
        "\n",
        "print(\"\\nTreinamento do Modelo de Baseline e Verificação de Acurácia finalizados.\")\n",
        "if accuracy < 0.65: # Limiar arbitrário para acurácia 'baixa'\n",
        "    print(\"Nota: Esta acurácia de baseline pode ser melhorada com modelos mais complexos, engenharia de features ou usando dados de imagem.\")\n",
        "else:\n",
        "    print(\"Este modelo de baseline fornece um ponto de partida para o desempenho.\")"
      ],
      "metadata": {
        "colab": {
          "base_uri": "https://localhost:8080/",
          "height": 616
        },
        "id": "8U7Yekz7gknh",
        "outputId": "0e5180ed-64d1-45da-efdc-0d1aef27b984"
      },
      "execution_count": null,
      "outputs": [
        {
          "output_type": "stream",
          "name": "stdout",
          "text": [
            "\n",
            "Matriz de Confusão:\n",
            "[[11732  5735]\n",
            " [ 7023 14898]]\n"
          ]
        },
        {
          "output_type": "display_data",
          "data": {
            "text/plain": [
              "<Figure size 700x500 with 2 Axes>"
            ],
            "image/png": "[encoded data removed]"
          },
          "metadata": {}
        },
        {
          "output_type": "stream",
          "name": "stdout",
          "text": [
            "\n",
            "Treinamento do Modelo de Baseline e Verificação de Acurácia finalizados.\n",
            "Este modelo de baseline fornece um ponto de partida para o desempenho.\n"
          ]
        }
      ]
    },
    {
      "cell_type": "code",
      "source": [
        "# Importando a função para calcular a acurácia\n",
        "from sklearn.metrics import accuracy_score"
      ],
      "metadata": {
        "id": "L7dSfFYoheCB"
      },
      "execution_count": null,
      "outputs": []
    },
    {
      "cell_type": "code",
      "source": [
        "  # Verificação das Variaveis de treino e teste\n",
        "if 'y_test' in locals() and 'y_pred' in locals():\n",
        "    # Calcula a acurácia comparando os valores reais (y_test) com as previsões (y_pred)\n",
        "    accuracy = accuracy_score(y_test, y_pred)"
      ],
      "metadata": {
        "id": "e2N2c85ahhPD"
      },
      "execution_count": null,
      "outputs": []
    },
    {
      "cell_type": "code",
      "source": [
        "  # Converte a acurácia para porcentagem\n",
        "accuracy_percentage = accuracy * 100"
      ],
      "metadata": {
        "id": "pdAp3iwXhsNL"
      },
      "execution_count": null,
      "outputs": []
    },
    {
      "cell_type": "code",
      "source": [
        "  # Exibe a porcentagem de acurácia formatada\n",
        "print(f\"A porcentagem de acurácia do modelo no conjunto de teste é: {accuracy_percentage:.2f}%\")"
      ],
      "metadata": {
        "colab": {
          "base_uri": "https://localhost:8080/"
        },
        "id": "9KGxiKqphwMq",
        "outputId": "a72556c6-7ca4-4ae5-f68f-69c6d216b632"
      },
      "execution_count": null,
      "outputs": [
        {
          "output_type": "stream",
          "name": "stdout",
          "text": [
            "A porcentagem de acurácia do modelo no conjunto de teste é: 67.61%\n"
          ]
        }
      ]
    },
    {
      "cell_type": "code",
      "source": [
        "# Comentário adicional sobre a acurácia\n",
        "if accuracy_percentage >= 90:\n",
        "    print(\"Esta é uma boa acurácia para um modelo de baseline!\")\n",
        "elif accuracy_percentage >= 65:\n",
        "    print(\"Esta acurácia é razoável para um modelo de baseline, mas pode haver espaço para melhorias.\")\n",
        "else:\n",
        "    print(\"Esta acurácia indica que o modelo de baseline pode precisar de melhorias significativas (ex: engenharia de features, outro modelo) ou que o problema é desafiador com as features atuais.\")"
      ],
      "metadata": {
        "colab": {
          "base_uri": "https://localhost:8080/"
        },
        "id": "WSIspCtRh6-i",
        "outputId": "bb347cf1-f375-47de-ed3d-7b17885211a4"
      },
      "execution_count": null,
      "outputs": [
        {
          "output_type": "stream",
          "name": "stdout",
          "text": [
            "Esta acurácia é razoável para um modelo de baseline, mas pode haver espaço para melhorias.\n"
          ]
        }
      ]
    },
    {
      "cell_type": "code",
      "source": [
        "# Importando bibliotecas necessarias para melhora do nosso modelo\n",
        "from sklearn.ensemble import RandomForestClassifier\n",
        "from sklearn.metrics import accuracy_score, classification_report, confusion_matrix\n",
        "import seaborn as sns\n",
        "import matplotlib.pyplot as plt\n",
        "import pandas as pd"
      ],
      "metadata": {
        "id": "FDqt1SUsjSi2"
      },
      "execution_count": null,
      "outputs": []
    },
    {
      "cell_type": "code",
      "source": [
        "# Reutilizando a função de verificação do bloco anterior para robustez\n",
        "def check_data_availability(data_vars_dict):\n",
        "    for var_name, var_value in data_vars_dict.items():\n",
        "        if var_name not in globals():\n",
        "            print(f\"Variável '{var_name}' não encontrada. Por favor, execute os blocos de preparação de features primeiro.\")\n",
        "            return False\n",
        "        if hasattr(var_value, 'shape') and var_value.shape[0] == 0: # Para arrays NumPy ou matrizes esparsas\n",
        "            print(f\"Variável '{var_name}' está vazia. Verifique os passos de preparação de features.\")\n",
        "            return False\n",
        "        elif isinstance(var_value, pd.Series) and var_value.empty: # Para Series pandas\n",
        "            print(f\"Variável '{var_name}' (Series) está vazia. Verifique os passos de preparação de features.\")\n",
        "            return False\n",
        "    return True"
      ],
      "metadata": {
        "id": "N-cNQCBajpI2"
      },
      "execution_count": null,
      "outputs": []
    },
    {
      "cell_type": "code",
      "source": [
        "# Verificando as variáveis necessárias.\n",
        "required_data_rf = {\n",
        "    'X_train_processed': globals().get('X_train_processed'),\n",
        "    'y_train': globals().get('y_train'),\n",
        "    'X_test_processed': globals().get('X_test_processed'),\n",
        "    'y_test': globals().get('y_test')\n",
        "}\n",
        "\n",
        "if not check_data_availability(required_data_rf):\n",
        "    print(\"Dados de treino/teste não encontrados ou vazios. Interrompendo o treinamento do RandomForest.\")\n",
        "else:\n",
        "    # Atribuição para facilitar o uso\n",
        "    X_train_processed_rf = required_data_rf['X_train_processed']\n",
        "    y_train_rf = required_data_rf['y_train']\n",
        "    X_test_processed_rf = required_data_rf['X_test_processed']\n",
        "    y_test_rf = required_data_rf['y_test']\n",
        "\n",
        "    print(\"\\nIniciando Treinamento com RandomForestClassifier e Verificação de Acurácia...\\n\")"
      ],
      "metadata": {
        "colab": {
          "base_uri": "https://localhost:8080/"
        },
        "id": "v2Dm5fkPjvZ2",
        "outputId": "a66a716f-5629-460c-e97e-1e35308eee1c"
      },
      "execution_count": null,
      "outputs": [
        {
          "output_type": "stream",
          "name": "stdout",
          "text": [
            "\n",
            "Iniciando Treinamento com RandomForestClassifier e Verificação de Acurácia...\n",
            "\n"
          ]
        }
      ]
    },
    {
      "cell_type": "code",
      "source": [
        "  # Inicializando e Treinando o Modelo RandomForestClassifier\n",
        "rf_model = RandomForestClassifier(n_estimators=100, random_state=42, class_weight='balanced', n_jobs=-1)\n",
        "\n",
        "print(\"Treinando o modelo RandomForestClassifier...\")\n",
        "rf_model.fit(X_train_processed_rf, y_train_rf)\n",
        "print(\"Treinamento do modelo RandomForestClassifier concluído.\")"
      ],
      "metadata": {
        "colab": {
          "base_uri": "https://localhost:8080/"
        },
        "id": "N6YtF8zoj2K-",
        "outputId": "3f6a6bb0-a5a7-4100-a071-0d372368c6b2"
      },
      "execution_count": null,
      "outputs": [
        {
          "output_type": "stream",
          "name": "stdout",
          "text": [
            "Treinando o modelo RandomForestClassifier...\n",
            "Treinamento do modelo RandomForestClassifier concluído.\n"
          ]
        }
      ]
    },
    {
      "cell_type": "code",
      "source": [
        "  # Fazendo Previsões no Conjunto de Teste\n",
        "y_pred_rf = rf_model.predict(X_test_processed_rf)\n",
        "print(\"\\nPrevisões feitas no conjunto de teste com RandomForestClassifier.\")\n",
        "\n",
        "  # Avaliando o Modelo RandomForestClassifier\n",
        "accuracy_rf = accuracy_score(y_test_rf, y_pred_rf)\n",
        "print(f\"\\nAcurácia do modelo RandomForestClassifier: {accuracy_rf:.4f} ({(accuracy_rf*100):.2f}%)\")"
      ],
      "metadata": {
        "colab": {
          "base_uri": "https://localhost:8080/"
        },
        "id": "loWMUgPCkYIZ",
        "outputId": "4fd274a8-4d16-479d-f986-07cac94e793b"
      },
      "execution_count": null,
      "outputs": [
        {
          "output_type": "stream",
          "name": "stdout",
          "text": [
            "\n",
            "Previsões feitas no conjunto de teste com RandomForestClassifier.\n",
            "\n",
            "Acurácia do modelo RandomForestClassifier: 0.8919 (89.19%)\n"
          ]
        }
      ]
    },
    {
      "cell_type": "code",
      "source": [
        "  # Relatório de Classificação Detalhado\n",
        "print(\"\\nRelatório de Classificação (RandomForestClassifier):\")\n",
        "print(classification_report(y_test_rf, y_pred_rf, target_names=['Livre (0)', 'Ocupado (1)']))\n",
        "\n",
        "  # Matriz de Confusão\n",
        "cm_rf = confusion_matrix(y_test_rf, y_pred_rf)\n",
        "print(\"\\nMatriz de Confusão (RandomForestClassifier):\")\n",
        "print(cm_rf)\n",
        "\n",
        "plt.figure(figsize=(7, 5))\n",
        "sns.heatmap(cm_rf, annot=True, fmt='d', cmap='Greens', # Mudando a cor para diferenciar\n",
        "            xticklabels=['Previsto Livre (0)', 'Previsto Ocupado (1)'],\n",
        "            yticklabels=['Real Livre (0)', 'Real Ocupado (1)'])\n",
        "plt.title('Matriz de Confusão para RandomForestClassifier')\n",
        "plt.ylabel('Classe Real')\n",
        "plt.xlabel('Classe Prevista')\n",
        "plt.show()\n",
        "\n",
        "print(f\"\\nTreinamento com RandomForestClassifier e Verificação de Acurácia finalizados. A acuracia foi de {accuracy_rf}\")"
      ],
      "metadata": {
        "colab": {
          "base_uri": "https://localhost:8080/",
          "height": 801
        },
        "id": "Ok1263tQkq7f",
        "outputId": "c78a50f5-55ab-461d-fea7-d5adf073301d"
      },
      "execution_count": null,
      "outputs": [
        {
          "output_type": "stream",
          "name": "stdout",
          "text": [
            "\n",
            "Relatório de Classificação (RandomForestClassifier):\n",
            "              precision    recall  f1-score   support\n",
            "\n",
            "   Livre (0)       0.89      0.87      0.88     17467\n",
            " Ocupado (1)       0.90      0.91      0.90     21921\n",
            "\n",
            "    accuracy                           0.89     39388\n",
            "   macro avg       0.89      0.89      0.89     39388\n",
            "weighted avg       0.89      0.89      0.89     39388\n",
            "\n",
            "\n",
            "Matriz de Confusão (RandomForestClassifier):\n",
            "[[15121  2346]\n",
            " [ 1913 20008]]\n"
          ]
        },
        {
          "output_type": "display_data",
          "data": {
            "text/plain": [
              "<Figure size 700x500 with 2 Axes>"
            ],
            "image/png": "[encoded data removed]"
          },
          "metadata": {}
        },
        {
          "output_type": "stream",
          "name": "stdout",
          "text": [
            "\n",
            "Treinamento com RandomForestClassifier e Verificação de Acurácia finalizados. A acuracia foi de 0.8918706204935514\n"
          ]
        }
      ]
    }
  ]
}